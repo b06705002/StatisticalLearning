{
 "cells": [
  {
   "cell_type": "code",
   "execution_count": 1,
   "metadata": {},
   "outputs": [],
   "source": [
    "import pickle\n",
    "import math\n",
    "import numpy as np\n",
    "from sklearn import preprocessing\n",
    "from sklearn.neighbors import NearestNeighbors\n",
    "\n",
    "from sklearn import neighbors\n",
    "from sklearn.metrics import mean_squared_error\n",
    "from math import sqrt\n",
    "import matplotlib.pyplot as plt"
   ]
  },
  {
   "cell_type": "code",
   "execution_count": 2,
   "metadata": {
    "scrolled": true
   },
   "outputs": [
    {
     "name": "stdout",
     "output_type": "stream",
     "text": [
      "RMSE value for k=  1 is: 13.94019368588543\n",
      "RMSE value for k=  2 is: 12.097861381252473\n",
      "RMSE value for k=  3 is: 11.448255568232025\n",
      "RMSE value for k=  4 is: 11.043653909221652\n",
      "RMSE value for k=  5 is: 10.900440969673351\n",
      "RMSE value for k=  10 is: 10.46269085847422\n",
      "RMSE value for k=  15 is: 10.359457586258149\n",
      "RMSE value for k=  20 is: 10.292158827638316\n",
      "RMSE value for k=  25 is: 10.261870966511582\n",
      "RMSE value for k=  30 is: 10.257804039057469\n",
      "RMSE value for k=  35 is: 10.235202506063867\n",
      "RMSE value for k=  40 is: 10.209997388181186\n",
      "RMSE value for k=  45 is: 10.204546360311813\n",
      "RMSE value for k=  50 is: 10.228160003962914\n",
      "RMSE value for k=  55 is: 10.232596529500087\n",
      "RMSE value for k=  60 is: 10.242063661955804\n",
      "RMSE value for k=  80 is: 10.245796391589902\n",
      "RMSE value for k=  100 is: 10.260879617914505\n",
      "RMSE value for k=  120 is: 10.284962306823381\n",
      "RMSE value for k=  140 is: 10.299767106540788\n",
      "RMSE value for k=  160 is: 10.318954408812253\n",
      "RMSE value for k=  180 is: 10.347841640420786\n",
      "RMSE value for k=  200 is: 10.370087243686365\n"
     ]
    }
   ],
   "source": [
    "with open('msd_data1.pickle', 'rb') as f:\n",
    "     data = pickle.load(f)\n",
    "# print(data)\n",
    "X_train = data['X_train']\n",
    "X_test = data['X_test']\n",
    "Y_train = data['Y_train']\n",
    "Y_test = data['Y_test']\n",
    "X_train = preprocessing.scale(X_train)\n",
    "X_test = preprocessing.scale(X_test)\n",
    "\n",
    "s_rmse_val = []\n",
    "klist = [1,2,3,4,5,10,15,20,25,30,35,40,45,50,55,60,80,100,120,140,160,180,200]\n",
    "for x in range(0, len(klist)):\n",
    "    model = neighbors.KNeighborsRegressor(n_neighbors = klist[x])\n",
    "    model.fit(X_train, Y_train)\n",
    "    pred=model.predict(X_test)\n",
    "    error = sqrt(mean_squared_error(Y_test,pred))\n",
    "    s_rmse_val.append(error)\n",
    "    print('RMSE value for k= ' , klist[x] , 'is:', error)\n",
    "# plt.plot(klist, s_rmse_val)\n",
    "# plt.show()"
   ]
  },
  {
   "cell_type": "code",
   "execution_count": 4,
   "metadata": {},
   "outputs": [
    {
     "name": "stdout",
     "output_type": "stream",
     "text": [
      "RMSE value for k=  1 is: 14.923638966418345\n",
      "RMSE value for k=  2 is: 12.777499755429464\n",
      "RMSE value for k=  3 is: 12.075674967716129\n",
      "RMSE value for k=  4 is: 11.767805657810635\n",
      "RMSE value for k=  5 is: 11.466392632384432\n",
      "RMSE value for k=  10 is: 11.07746090040493\n",
      "RMSE value for k=  15 is: 10.888979137947995\n",
      "RMSE value for k=  20 is: 10.797788546734928\n",
      "RMSE value for k=  25 is: 10.79007301797969\n",
      "RMSE value for k=  30 is: 10.75026561256701\n",
      "RMSE value for k=  35 is: 10.717738719772289\n",
      "RMSE value for k=  40 is: 10.714437504678756\n",
      "RMSE value for k=  45 is: 10.698494013475852\n",
      "RMSE value for k=  50 is: 10.69110105960404\n",
      "RMSE value for k=  55 is: 10.682608734124413\n",
      "RMSE value for k=  60 is: 10.672535729098724\n",
      "RMSE value for k=  80 is: 10.662907517124493\n",
      "RMSE value for k=  100 is: 10.67701950452466\n",
      "RMSE value for k=  120 is: 10.683139638996407\n",
      "RMSE value for k=  140 is: 10.687017556442052\n",
      "RMSE value for k=  160 is: 10.691630026202155\n",
      "RMSE value for k=  180 is: 10.69071978380711\n",
      "RMSE value for k=  200 is: 10.698853374700175\n"
     ]
    },
    {
     "data": {
      "image/png": "[encoded data removed]",
      "text/plain": [
       "<Figure size 432x288 with 1 Axes>"
      ]
     },
     "metadata": {
      "needs_background": "light"
     },
     "output_type": "display_data"
    }
   ],
   "source": [
    "X_train = data['X_train']\n",
    "X_test = data['X_test']\n",
    "Y_train = data['Y_train']\n",
    "Y_test = data['Y_test']\n",
    "rmse_val = []\n",
    "kklist = [1,2,3,4,5,10,15,20,25,30,35,40,45,50,55,60,80,100,120,140,160,180,200]\n",
    "for x in range(0, len(klist)):\n",
    "    model = neighbors.KNeighborsRegressor(n_neighbors = klist[x])\n",
    "    model.fit(X_train, Y_train)\n",
    "    pred=model.predict(X_test)\n",
    "    error = sqrt(mean_squared_error(Y_test,pred))\n",
    "    rmse_val.append(error)\n",
    "    print('RMSE value for k= ' , klist[x] , 'is:', error)\n",
    "# plt.plot(kklist, rmse_val)\n",
    "# plt.show()\n",
    "line1, = plt.plot(klist, s_rmse_val, color = 'red', linewidth = 3, label = 'case1_standardized rmse')             \n",
    "line2, = plt.plot(klist, rmse_val, color = 'blue', linewidth = 3, label = 'case2_unstandardized rmse')\n",
    "plt.legend(handles = [line1, line2], loc='upper right')\n",
    "plt.show()"
   ]
  },
  {
   "cell_type": "code",
   "execution_count": null,
   "metadata": {},
   "outputs": [],
   "source": []
  }
 ],
 "metadata": {
  "kernelspec": {
   "display_name": "Python 3",
   "language": "python",
   "name": "python3"
  },
  "language_info": {
   "codemirror_mode": {
    "name": "ipython",
    "version": 3
   },
   "file_extension": ".py",
   "mimetype": "text/x-python",
   "name": "python",
   "nbconvert_exporter": "python",
   "pygments_lexer": "ipython3",
   "version": "3.7.3"
  }
 },
 "nbformat": 4,
 "nbformat_minor": 2
}
