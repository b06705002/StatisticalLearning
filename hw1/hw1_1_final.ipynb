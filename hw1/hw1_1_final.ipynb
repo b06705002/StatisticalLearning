{
 "cells": [
  {
   "cell_type": "markdown",
   "metadata": {},
   "source": [
    "第一題"
   ]
  },
  {
   "cell_type": "markdown",
   "metadata": {},
   "source": [
    "Q1\n",
    "我的myknn_regressor是先算出每個xtest點到各個xtrain點的距離，再利用一個跑k次的loop找出最近的k個點並存入陣列中紀錄，以方便後續的equal_weight和remove_outier做計算。"
   ]
  },
  {
   "cell_type": "code",
   "execution_count": 2,
   "metadata": {},
   "outputs": [],
   "source": [
    "import pickle\n",
    "import math\n",
    "import numpy as np\n",
    "from sklearn import preprocessing\n",
    "from sklearn.neighbors import NearestNeighbors\n",
    "\n",
    "from sklearn import neighbors\n",
    "from sklearn.metrics import mean_squared_error\n",
    "from math import sqrt\n",
    "import matplotlib.pyplot as plt\n",
    "with open('msd_data1.pickle', 'rb') as f:\n",
    "     data = pickle.load(f)\n",
    "# print(data)\n",
    "X_train = data['X_train']\n",
    "X_test = data['X_test']\n",
    "Y_train = data['Y_train']\n",
    "Y_test = data['Y_test']"
   ]
  },
  {
   "cell_type": "code",
   "execution_count": 3,
   "metadata": {},
   "outputs": [],
   "source": [
    "class myknn_regressor:\n",
    "    def __init__(self, k, act):\n",
    "        self.k = k\n",
    "        self.name = act\n",
    "        \n",
    "    def fit(self, X_tr, Y_tr):\n",
    "        self.X_tr = X_tr\n",
    "        self.Y_tr = Y_tr\n",
    "        \n",
    "    def predict(self, X_t):\n",
    "        self.testd = X_t\n",
    "        arr = []\n",
    "        for i in range(0, len(self.testd)):\n",
    "#             if i%1000 == 0:\n",
    "#                 print(i)\n",
    "            d = []\n",
    "            d = np.sum((self.X_tr - self.testd[i])**2, axis = 1)\n",
    "            numarr = []\n",
    "            for j in range(0, self.k):\n",
    "                x = np.argmin(d)\n",
    "                numarr.append(self.Y_tr[x])\n",
    "                d[x] = float('inf')\n",
    "            na = np.array(numarr)\n",
    "#             print(na)\n",
    "            \n",
    "            if self.name == 'equal_weight' or self.k < 10:\n",
    "                arr.append(sum(na)/len(na))\n",
    "            elif self.name == 'remove_outier' and self.k >= 10:\n",
    "                q = np.percentile(na, (25, 50, 75))\n",
    "                q1 = q[0]\n",
    "                q3 = q[2]\n",
    "                IQR = q3 - q1\n",
    "                remarr = []\n",
    "                for w in range(0, 20):\n",
    "                    if na[w] >= q1 - 1.5*IQR and na[w] <= q3 + IQR*1.5:\n",
    "                        remarr.append(na[w])\n",
    "                arr.append(sum(remarr)/len(remarr))\n",
    "        result1 = np.array(arr)\n",
    "        result = np.round(result1)\n",
    "        print('predict y:', result[0:20])\n",
    "        RMSE = (sum((result - Y_test)**2)/len(result))**(1/2)\n",
    "        print('RMSE is:',RMSE)\n",
    "        return RMSE"
   ]
  },
  {
   "cell_type": "markdown",
   "metadata": {},
   "source": [
    "Q2:\n",
    "不考慮outliers直接利用knn predict，結果如下。"
   ]
  },
  {
   "cell_type": "code",
   "execution_count": 4,
   "metadata": {},
   "outputs": [
    {
     "name": "stdout",
     "output_type": "stream",
     "text": [
      "predict y: [1993. 1994. 2000. 1992. 1993. 1998. 1987. 1991. 2002. 2003. 2001. 1999.\n",
      " 1996. 1997. 1995. 1997. 1992. 1999. 2004. 1996.]\n",
      "RMSE is: 10.29443215205838\n"
     ]
    }
   ],
   "source": [
    "X_tra = preprocessing.scale(X_train)\n",
    "X_tes = preprocessing.scale(X_test)\n",
    "myknn = myknn_regressor(20, \"equal_weight\")\n",
    "myknn.fit(X_tra, Y_train)\n",
    "ypred = myknn.predict(X_tes)"
   ]
  },
  {
   "cell_type": "markdown",
   "metadata": {},
   "source": [
    "Q3:\n",
    "考慮outliers，使用knn predict將outliers剔除，結果如下。\n",
    "remove_outier得出的結果(RMSE)比equal_weight還要更好(低)。"
   ]
  },
  {
   "cell_type": "code",
   "execution_count": 5,
   "metadata": {},
   "outputs": [
    {
     "name": "stdout",
     "output_type": "stream",
     "text": [
      "predict y: [1993. 1994. 2000. 1993. 1993. 2000. 1987. 1991. 2002. 2004. 2001. 2001.\n",
      " 1996. 1997. 1999. 1997. 1992. 2004. 2004. 1996.]\n",
      "RMSE is: 10.229173964695292\n"
     ]
    }
   ],
   "source": [
    "X_tra = preprocessing.scale(X_train)\n",
    "X_tes = preprocessing.scale(X_test)\n",
    "myknn = myknn_regressor(20, \"remove_outier\")\n",
    "myknn.fit(X_tra, Y_train)\n",
    "ypred = myknn.predict(X_tes)"
   ]
  },
  {
   "cell_type": "markdown",
   "metadata": {},
   "source": [
    "第二題"
   ]
  },
  {
   "cell_type": "markdown",
   "metadata": {},
   "source": [
    "case1"
   ]
  },
  {
   "cell_type": "code",
   "execution_count": 6,
   "metadata": {},
   "outputs": [
    {
     "name": "stdout",
     "output_type": "stream",
     "text": [
      "RMSE value for k=  1 is: 13.94019368588543\n",
      "RMSE value for k=  2 is: 12.097861381252473\n",
      "RMSE value for k=  3 is: 11.448255568232025\n",
      "RMSE value for k=  4 is: 11.043653909221652\n",
      "RMSE value for k=  5 is: 10.900440969673351\n",
      "RMSE value for k=  10 is: 10.46269085847422\n",
      "RMSE value for k=  15 is: 10.359457586258149\n",
      "RMSE value for k=  20 is: 10.292158827638316\n",
      "RMSE value for k=  25 is: 10.261870966511582\n",
      "RMSE value for k=  30 is: 10.257804039057469\n",
      "RMSE value for k=  35 is: 10.235202506063867\n",
      "RMSE value for k=  40 is: 10.209997388181186\n",
      "RMSE value for k=  45 is: 10.204546360311813\n",
      "RMSE value for k=  50 is: 10.228160003962914\n",
      "RMSE value for k=  55 is: 10.232596529500087\n",
      "RMSE value for k=  60 is: 10.242063661955804\n",
      "RMSE value for k=  80 is: 10.245796391589902\n",
      "RMSE value for k=  100 is: 10.260879617914505\n",
      "RMSE value for k=  120 is: 10.284962306823381\n",
      "RMSE value for k=  140 is: 10.299767106540788\n",
      "RMSE value for k=  160 is: 10.318954408812253\n",
      "RMSE value for k=  180 is: 10.347841640420786\n",
      "RMSE value for k=  200 is: 10.370087243686365\n"
     ]
    }
   ],
   "source": [
    "s_rmse_val = []\n",
    "X_tra = preprocessing.scale(X_train)\n",
    "X_tes = preprocessing.scale(X_test)\n",
    "klist = [1,2,3,4,5,10,15,20,25,30,35,40,45,50,55,60,80,100,120,140,160,180,200]\n",
    "for x in range(0, len(klist)):\n",
    "    model = neighbors.KNeighborsRegressor(n_neighbors = klist[x])\n",
    "    model.fit(X_tra, Y_train)\n",
    "    pred=model.predict(X_tes)\n",
    "    error = sqrt(mean_squared_error(Y_test,pred))\n",
    "    s_rmse_val.append(error)\n",
    "    print('RMSE value for k= ' , klist[x] , 'is:', error)"
   ]
  },
  {
   "cell_type": "markdown",
   "metadata": {},
   "source": [
    "case2"
   ]
  },
  {
   "cell_type": "code",
   "execution_count": 7,
   "metadata": {},
   "outputs": [
    {
     "name": "stdout",
     "output_type": "stream",
     "text": [
      "RMSE value for k=  1 is: 14.923638966418345\n",
      "RMSE value for k=  2 is: 12.777499755429464\n",
      "RMSE value for k=  3 is: 12.075674967716129\n",
      "RMSE value for k=  4 is: 11.767805657810635\n",
      "RMSE value for k=  5 is: 11.466392632384432\n",
      "RMSE value for k=  10 is: 11.07746090040493\n",
      "RMSE value for k=  15 is: 10.888979137947995\n",
      "RMSE value for k=  20 is: 10.797788546734928\n",
      "RMSE value for k=  25 is: 10.79007301797969\n",
      "RMSE value for k=  30 is: 10.75026561256701\n",
      "RMSE value for k=  35 is: 10.717738719772289\n",
      "RMSE value for k=  40 is: 10.714437504678756\n",
      "RMSE value for k=  45 is: 10.698494013475852\n",
      "RMSE value for k=  50 is: 10.69110105960404\n",
      "RMSE value for k=  55 is: 10.682608734124413\n",
      "RMSE value for k=  60 is: 10.672535729098724\n",
      "RMSE value for k=  80 is: 10.662907517124493\n",
      "RMSE value for k=  100 is: 10.67701950452466\n",
      "RMSE value for k=  120 is: 10.683139638996407\n",
      "RMSE value for k=  140 is: 10.687017556442052\n",
      "RMSE value for k=  160 is: 10.691630026202155\n",
      "RMSE value for k=  180 is: 10.69071978380711\n",
      "RMSE value for k=  200 is: 10.698853374700175\n"
     ]
    }
   ],
   "source": [
    "X_train = data['X_train']\n",
    "X_test = data['X_test']\n",
    "Y_train = data['Y_train']\n",
    "Y_test = data['Y_test']\n",
    "rmse_val = []\n",
    "for x in range(0, len(klist)):\n",
    "    model = neighbors.KNeighborsRegressor(n_neighbors = klist[x])\n",
    "    model.fit(X_train, Y_train)\n",
    "    pred=model.predict(X_test)\n",
    "    error = sqrt(mean_squared_error(Y_test,pred))\n",
    "    rmse_val.append(error)\n",
    "    print('RMSE value for k= ' , klist[x] , 'is:', error)"
   ]
  },
  {
   "cell_type": "markdown",
   "metadata": {},
   "source": [
    "case3"
   ]
  },
  {
   "cell_type": "code",
   "execution_count": 8,
   "metadata": {},
   "outputs": [
    {
     "name": "stdout",
     "output_type": "stream",
     "text": [
      "RMSE is: 13.94019368588543\n",
      "RMSE value for k=  1 is: 13.94019368588543\n",
      "RMSE is: 12.097933707869291\n",
      "RMSE value for k=  2 is: 12.097933707869291\n",
      "RMSE is: 11.454358704586362\n",
      "RMSE value for k=  3 is: 11.454358704586362\n",
      "RMSE is: 11.050625924957071\n",
      "RMSE value for k=  4 is: 11.050625924957071\n",
      "RMSE is: 10.905732437576122\n",
      "RMSE value for k=  5 is: 10.905732437576122\n",
      "RMSE is: 10.506696277454044\n",
      "RMSE value for k=  10 is: 10.506696277454044\n",
      "RMSE is: 10.342759141866674\n",
      "RMSE value for k=  15 is: 10.342759141866674\n",
      "RMSE is: 10.229173964695292\n",
      "RMSE value for k=  20 is: 10.229173964695292\n",
      "RMSE is: 10.21934440167274\n",
      "RMSE value for k=  25 is: 10.21934440167274\n",
      "RMSE is: 10.197336253486332\n",
      "RMSE value for k=  30 is: 10.197336253486332\n",
      "RMSE is: 10.16011810954971\n",
      "RMSE value for k=  35 is: 10.16011810954971\n",
      "RMSE is: 10.096484536708804\n",
      "RMSE value for k=  40 is: 10.096484536708804\n",
      "RMSE is: 10.058760692384856\n",
      "RMSE value for k=  45 is: 10.058760692384856\n",
      "RMSE is: 10.09656707335056\n",
      "RMSE value for k=  50 is: 10.09656707335056\n",
      "RMSE is: 10.078409266016802\n",
      "RMSE value for k=  55 is: 10.078409266016802\n",
      "RMSE is: 10.090589675534329\n",
      "RMSE value for k=  60 is: 10.090589675534329\n",
      "RMSE is: 10.060351219846485\n",
      "RMSE value for k=  80 is: 10.060351219846485\n",
      "RMSE is: 10.062454968843339\n",
      "RMSE value for k=  100 is: 10.062454968843339\n",
      "RMSE is: 10.104949282406121\n",
      "RMSE value for k=  120 is: 10.104949282406121\n",
      "RMSE is: 10.108412338245804\n",
      "RMSE value for k=  140 is: 10.108412338245804\n",
      "RMSE is: 10.119189690879404\n",
      "RMSE value for k=  160 is: 10.119189690879404\n",
      "RMSE is: 10.14457161901543\n",
      "RMSE value for k=  180 is: 10.14457161901543\n",
      "RMSE is: 10.170644030738663\n",
      "RMSE value for k=  200 is: 10.170644030738663\n"
     ]
    }
   ],
   "source": [
    "my_val = []\n",
    "X_tra = preprocessing.scale(X_train)\n",
    "X_tes = preprocessing.scale(X_test)\n",
    "\n",
    "class myknn_regressor:\n",
    "    def __init__(self, k, act):\n",
    "        self.k = k\n",
    "        self.name = act\n",
    "        \n",
    "    def fit(self, X_tr, Y_tr):\n",
    "        self.X_tr = X_tr\n",
    "        self.Y_tr = Y_tr\n",
    "        \n",
    "    def predict(self, X_t):\n",
    "        self.testd = X_t\n",
    "        arr = []\n",
    "        for i in range(0, len(self.testd)):\n",
    "#             if i%1000 == 0:\n",
    "#                 print(i)\n",
    "            d = []\n",
    "            d = np.sum((self.X_tr - self.testd[i])**2, axis = 1)\n",
    "            numarr = []\n",
    "            for j in range(0, self.k):\n",
    "                x = np.argmin(d)\n",
    "                numarr.append(self.Y_tr[x])\n",
    "                d[x] = float('inf')\n",
    "            na = np.array(numarr)\n",
    "#             print(na)\n",
    "            \n",
    "            if self.name == 'equal_weight' or self.k < 10:\n",
    "                arr.append(sum(na)/len(na))\n",
    "            elif self.name == 'remove_outier' and self.k >= 10:\n",
    "                q = np.percentile(na, (25, 50, 75))\n",
    "                q1 = q[0]\n",
    "                q3 = q[2]\n",
    "                IQR = q3 - q1\n",
    "                remarr = []\n",
    "                for w in range(0, self.k):\n",
    "                    if na[w] >= q1 - 1.5*IQR and na[w] <= q3 + IQR*1.5:\n",
    "                        remarr.append(na[w])\n",
    "                arr.append(sum(remarr)/len(remarr))\n",
    "        result1 = np.array(arr)\n",
    "        result = np.round(result1)\n",
    "#         print('predict y:', result[0:20])\n",
    "        RMSE = (sum((result - Y_test)**2)/len(result))**(1/2)\n",
    "        print('RMSE is:',RMSE)\n",
    "        return RMSE\n",
    "\n",
    "for x in range(0, len(klist)):\n",
    "    myknn = myknn_regressor(klist[x], \"remove_outier\")\n",
    "    myknn.fit(X_tra, Y_train)\n",
    "    ypred = myknn.predict(X_tes)\n",
    "    my_val.append(ypred)\n",
    "    print('RMSE value for k= ' , klist[x] , 'is:', ypred)"
   ]
  },
  {
   "cell_type": "markdown",
   "metadata": {},
   "source": [
    "plot"
   ]
  },
  {
   "cell_type": "code",
   "execution_count": 9,
   "metadata": {},
   "outputs": [
    {
     "data": {
      "image/png": "[encoded data removed]",
      "text/plain": [
       "<Figure size 432x288 with 1 Axes>"
      ]
     },
     "metadata": {
      "needs_background": "light"
     },
     "output_type": "display_data"
    }
   ],
   "source": [
    "plt.xlabel('k')\n",
    "plt.ylabel('RMSE')\n",
    "line1, = plt.plot(klist, s_rmse_val, color = 'red', linewidth = 3, label = 'case1_standardized rmse')             \n",
    "line2, = plt.plot(klist, rmse_val, color = 'blue', linewidth = 3, label = 'case2_unstandardized rmse')\n",
    "line3, = plt.plot(klist, my_val, color = 'green', linewidth = 3, label = 'case3_myknn rmse')\n",
    "plt.legend(handles = [line1, line2, line3], loc='upper right')\n",
    "plt.show()"
   ]
  },
  {
   "cell_type": "markdown",
   "metadata": {},
   "source": [
    "從圖中可以知道，data在經過標準化之後可以得到一個比較低的RMSE，相對而言更加優秀"
   ]
  }
 ],
 "metadata": {
  "kernelspec": {
   "display_name": "Python 3",
   "language": "python",
   "name": "python3"
  },
  "language_info": {
   "codemirror_mode": {
    "name": "ipython",
    "version": 3
   },
   "file_extension": ".py",
   "mimetype": "text/x-python",
   "name": "python",
   "nbconvert_exporter": "python",
   "pygments_lexer": "ipython3",
   "version": "3.7.6"
  }
 },
 "nbformat": 4,
 "nbformat_minor": 2
}
