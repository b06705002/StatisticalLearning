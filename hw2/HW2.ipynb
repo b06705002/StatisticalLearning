{
 "cells": [
  {
   "cell_type": "markdown",
   "metadata": {},
   "source": [
    "Q1"
   ]
  },
  {
   "cell_type": "markdown",
   "metadata": {},
   "source": [
    "With the coefficient of correlation at Q3 by doing linear regression, we can know that coefficients are:"
   ]
  },
  {
   "cell_type": "code",
   "execution_count": 5,
   "metadata": {},
   "outputs": [
    {
     "name": "stdout",
     "output_type": "stream",
     "text": [
      "comp_page_like :   -0.0684041869\n",
      "Paid :   147.059738\n",
      "life_post_reach :   0.0179110681\n",
      "life_post_impression_liked :   -0.000216009708\n",
      "life_post_reach_liked :   0.00482031391\n",
      "comment :   6.82142207\n",
      "like :   -0.61676411\n",
      "share :   7.54278783\n",
      "type_link :   -621.049994\n",
      "type_status :   1368.48882\n",
      "type_video :   49.7452472\n",
      "cat2 :   -138.262367\n",
      "cat3 :   -126.64553\n",
      "month1 :   -3291.49472\n",
      "month2 :   -2511.97518\n",
      "month3 :   -2255.61939\n",
      "month4 :   -2018.96194\n",
      "month5 :   -1462.69926\n",
      "month6 :   -819.825357\n",
      "month7 :   -627.382449\n",
      "month8 :   -492.601748\n",
      "month9 :   -248.659622\n",
      "month10 :   -236.794218\n",
      "month11 :   -482.011162\n",
      "dow1 :   152.30386\n",
      "dow2 :   -173.784341\n",
      "dow3 :   30.7368828\n",
      "dow4 :   -195.57517\n",
      "dow5 :   -70.6704408\n",
      "dow6 :   -31.530194\n",
      "hour2 :   416.8151\n",
      "hour3 :   107.38077\n",
      "hour4 :   91.4301654\n",
      "hour5 :   283.858616\n",
      "hour6 :   143.729454\n",
      "hour7 :   291.776822\n",
      "hour8 :   208.722883\n",
      "hour9 :   314.488457\n",
      "hour10 :   209.001499\n",
      "hour11 :   235.519102\n",
      "hour12 :   160.020944\n",
      "hour13 :   154.781652\n",
      "hour14 :   220.833236\n"
     ]
    }
   ],
   "source": [
    "fea = ['comp_page_like', 'Paid', 'life_post_reach', 'life_post_impression_liked', 'life_post_reach_liked', 'comment', 'like',\n",
    "         'share', 'type_link', 'type_status', 'type_video', 'cat2', 'cat3', 'month1', 'month2', 'month3', 'month4', 'month5',\n",
    "        'month6', 'month7', 'month8', 'month9', 'month10', 'month11', 'dow1', 'dow2', 'dow3', 'dow4', 'dow5', 'dow6', 'hour2',\n",
    "        'hour3', 'hour4', 'hour5', 'hour6','hour7','hour8','hour9','hour10','hour11','hour12','hour13','hour14']\n",
    "co = [-6.84041869e-02,  1.47059738e+02,  1.79110681e-02, -2.16009708e-04,\n",
    "  4.82031391e-03,  6.82142207e+00, -6.16764110e-01,  7.54278783e+00,\n",
    " -6.21049994e+02,  1.36848882e+03,  4.97452472e+01, -1.38262367e+02,\n",
    " -1.26645530e+02, -3.29149472e+03, -2.51197518e+03, -2.25561939e+03,\n",
    " -2.01896194e+03, -1.46269926e+03, -8.19825357e+02, -6.27382449e+02,\n",
    " -4.92601748e+02, -2.48659622e+02, -2.36794218e+02, -4.82011162e+02,\n",
    "  1.52303860e+02, -1.73784341e+02,  3.07368828e+01, -1.95575170e+02,\n",
    " -7.06704408e+01, -3.15301940e+01,  4.16815100e+02,  1.07380770e+02,\n",
    "  9.14301654e+01,  2.83858616e+02,  1.43729454e+02,  2.91776822e+02,\n",
    "  2.08722883e+02,  3.14488457e+02,  2.09001499e+02,  2.35519102e+02,\n",
    "  1.60020944e+02,  1.54781652e+02,  2.20833236e+02]\n",
    "for i in range(0, 43):\n",
    "    print(fea[i], ':  ',co[i])"
   ]
  },
  {
   "cell_type": "markdown",
   "metadata": {},
   "source": [
    "We can know that compare to continuous features(comp_page_like, life_post_reach, life_post_impression_liked, life_post_reach_liked, comment, like, share), binary features(the other)' coefficients are bigger because of the small value of features."
   ]
  },
  {
   "cell_type": "markdown",
   "metadata": {},
   "source": [
    "Q2"
   ]
  },
  {
   "cell_type": "code",
   "execution_count": 6,
   "metadata": {},
   "outputs": [],
   "source": [
    "import math\n",
    "import csv\n",
    "import numpy as np\n",
    "from sklearn import datasets, linear_model\n",
    "import matplotlib.pyplot as plt\n",
    "from sklearn.metrics import mean_squared_error, r2_score\n",
    "\n",
    "def rmse(predictions, targets):\n",
    "    return np.sqrt(((predictions - targets) ** 2).mean())\n",
    "\n",
    "x_mean = []\n",
    "x_std = []\n",
    "y = []\n",
    "x = np.array([])\n",
    "with open('df1_train.csv', 'r') as db01:\n",
    "    reader = csv.DictReader(db01)\n",
    "    train_y = [row['life_post_consumer'] for row in reader]\n",
    "    tra_y = np.array(np.float_(train_y))\n",
    "    y = tra_y\n",
    "\n",
    "x_fea = ['comp_page_like', 'Paid', 'life_post_reach', 'life_post_impression_liked', 'life_post_reach_liked', 'comment', 'like',\n",
    "         'share', 'type_link', 'type_status', 'type_video', 'cat2', 'cat3', 'month1', 'month2', 'month3', 'month4', 'month5',\n",
    "        'month6', 'month7', 'month8', 'month9', 'month10', 'month11', 'dow1', 'dow2', 'dow3', 'dow4', 'dow5', 'dow6', 'hour2',\n",
    "        'hour3', 'hour4', 'hour5', 'hour6','hour7','hour8','hour9','hour10','hour11','hour12','hour13','hour14']\n",
    "for item in x_fea:\n",
    "    with open('df1_train.csv', 'r') as db02:\n",
    "        reader = csv.DictReader(db02)\n",
    "        train_x = [row[item] for row in reader]\n",
    "        tra_x = np.array(np.float_(train_x))\n",
    "        x_mean.append(np.mean(tra_x))\n",
    "        x_std.append(np.std(tra_x))\n",
    "        x = np.concatenate([x,tra_x])\n",
    "x_r = x.reshape((len(x_fea), len(y)))\n",
    "x = x_r.T\n",
    "# print(y)\n",
    "# print(x)\n",
    "y_mean = np.mean(y)\n",
    "\n",
    "y_test = []\n",
    "x_test = np.array([])\n",
    "with open('df1_test1y.csv', 'r') as db03:\n",
    "    reader = csv.DictReader(db03)\n",
    "    t_y = [row['life_post_consumer'] for row in reader]\n",
    "    y_t = np.array(np.float_(t_y))\n",
    "    y_test = y_t\n",
    "\n",
    "for item in x_fea:\n",
    "    with open('df1_test1.csv', 'r') as db04:\n",
    "        reader = csv.DictReader(db04)\n",
    "        t_x = [row[item] for row in reader]\n",
    "        te_x = np.array(np.float_(t_x))\n",
    "        x_test = np.concatenate([x_test,te_x])\n",
    "xtest_r = x_test.reshape((len(x_fea), len(y_test)))\n",
    "x_test = xtest_r.T\n",
    "# print(y_test)\n",
    "# print(x_test)\n",
    "x_test20 = x_test[:20]\n",
    "y_test20 = y_test[:20]\n",
    "# print(x_test20)\n",
    "# print(y_test20)\n",
    "\n",
    "dy = y - np.mean(y)\n",
    "\n",
    "\n",
    "# cbstdxlist = []\n",
    "# cstdxlist = []\n",
    "cbstdx = np.array([])\n",
    "cstdx = np.array([])\n",
    "for item in x_fea:\n",
    "    with open('df1_train.csv', 'r') as db05:\n",
    "        reader = csv.DictReader(db05)\n",
    "        train_x = [row[item] for row in reader]\n",
    "        tra_x = np.array(np.float_(train_x))\n",
    "        x1_std = np.std(tra_x)\n",
    "        tra_x = tra_x - np.mean(tra_x)\n",
    "        tra_x = tra_x / x1_std\n",
    "        tra_x = np.array(np.float_(tra_x))\n",
    "        cbstdx = np.concatenate([cbstdx, tra_x])\n",
    "x_r = cbstdx.reshape((len(x_fea), len(y)))\n",
    "cbstdx = x_r.T\n",
    "# print(cbstdx)\n",
    "x_fea1 = ['life_post_reach', 'life_post_impression_liked', 'life_post_reach_liked', 'comment', 'like',\n",
    "         'share']\n",
    "x_fea2 = ['type_link', 'type_status', 'type_video', 'cat2', 'cat3', 'month1', 'month2', 'month3', 'month4', 'month5',\n",
    "        'month6', 'month7', 'month8', 'month9', 'month10', 'month11', 'dow1', 'dow2', 'dow3', 'dow4', 'dow5', 'dow6', 'hour2',\n",
    "        'hour3', 'hour4', 'hour5', 'hour6','hour7','hour8','hour9','hour10','hour11','hour12','hour13','hour14']\n",
    "\n",
    "\n",
    "with open('df1_train.csv', 'r') as db06:\n",
    "    reader = csv.DictReader(db06)\n",
    "    train_x = [row['comp_page_like'] for row in reader]\n",
    "    tra_x = np.array(np.float_(train_x))\n",
    "    x1_std = np.std(tra_x)\n",
    "    tra_x = tra_x - np.mean(tra_x)\n",
    "    tra_x = tra_x / x1_std\n",
    "    tra_x = np.array(np.float_(tra_x))\n",
    "    cstdx = np.concatenate([cstdx,tra_x])\n",
    "    \n",
    "with open('df1_train.csv', 'r') as db07:\n",
    "    reader = csv.DictReader(db07)\n",
    "    train_x = [row['Paid'] for row in reader]\n",
    "    tra_x = np.array(np.float_(train_x))\n",
    "    cstdx = np.concatenate([cstdx,tra_x])\n",
    "\n",
    "for item in x_fea1:\n",
    "    with open('df1_train.csv', 'r') as db08:\n",
    "        reader = csv.DictReader(db08)\n",
    "        train_x = [row[item] for row in reader]\n",
    "        tra_x = np.array(np.float_(train_x))\n",
    "        x1_std = np.std(tra_x)\n",
    "        tra_x = tra_x - np.mean(tra_x)\n",
    "        tra_x = tra_x / x1_std\n",
    "        tra_x = np.array(np.float_(tra_x))\n",
    "        cstdx = np.concatenate([cstdx,tra_x])\n",
    "\n",
    "for item in x_fea2:\n",
    "    with open('df1_train.csv', 'r') as db09:\n",
    "        reader = csv.DictReader(db09)\n",
    "        train_x = [row[item] for row in reader]\n",
    "        tra_x = np.array(np.float_(train_x))\n",
    "        cstdx = np.concatenate([cstdx,tra_x])\n",
    "x_r = cstdx.reshape((len(x_fea), len(y)))\n",
    "cstdx = x_r.T\n",
    "\n",
    "# print(cbstdx)\n",
    "# print(cstdx)\n",
    "count = 0\n",
    "cbstdx_test = np.array([])\n",
    "cstdx_test = np.array([])\n",
    "for item in x_fea:\n",
    "    with open('df1_test1.csv', 'r') as db10:\n",
    "        reader = csv.DictReader(db10)\n",
    "        train_x = [row[item] for row in reader]\n",
    "        tra_x = np.array(np.float_(train_x))\n",
    "        tra_x = tra_x - x_mean[count]\n",
    "        tra_x = tra_x / x_std[count]\n",
    "        count += 1\n",
    "        tra_x = np.array(np.float_(tra_x))\n",
    "        cbstdx_test = np.concatenate([cbstdx_test, tra_x])\n",
    "x_r = cbstdx_test.reshape((len(x_fea), len(y_test)))\n",
    "cbstdx_test = x_r.T\n",
    "# print(cbstdx)\n",
    "x_fea1 = ['life_post_reach', 'life_post_impression_liked', 'life_post_reach_liked', 'comment', 'like',\n",
    "         'share']\n",
    "x_fea2 = ['type_link', 'type_status', 'type_video', 'cat2', 'cat3', 'month1', 'month2', 'month3', 'month4', 'month5',\n",
    "        'month6', 'month7', 'month8', 'month9', 'month10', 'month11', 'dow1', 'dow2', 'dow3', 'dow4', 'dow5', 'dow6', 'hour2',\n",
    "        'hour3', 'hour4', 'hour5', 'hour6','hour7','hour8','hour9','hour10','hour11','hour12','hour13','hour14']\n",
    "\n",
    "count2 = 0\n",
    "with open('df1_test1.csv', 'r') as db11:\n",
    "    reader = csv.DictReader(db11)\n",
    "    train_x = [row['comp_page_like'] for row in reader]\n",
    "    tra_x = np.array(np.float_(train_x))\n",
    "    tra_x = tra_x - x_mean[count2]\n",
    "    tra_x = tra_x / x_std[count2]\n",
    "    tra_x = np.array(np.float_(tra_x))\n",
    "    cstdx_test = np.concatenate([cstdx_test,tra_x])\n",
    "\n",
    "count2 += 1\n",
    "\n",
    "with open('df1_test1.csv', 'r') as db12:\n",
    "    reader = csv.DictReader(db12)\n",
    "    train_x = [row['Paid'] for row in reader]\n",
    "    tra_x = np.array(np.float_(train_x))\n",
    "    cstdx_test = np.concatenate([cstdx_test,tra_x])\n",
    "\n",
    "count2 += 1\n",
    "\n",
    "for item in x_fea1:\n",
    "    with open('df1_test1.csv', 'r') as db13:\n",
    "        reader = csv.DictReader(db13)\n",
    "        train_x = [row[item] for row in reader]\n",
    "        tra_x = np.array(np.float_(train_x))\n",
    "        tra_x = tra_x - x_mean[count2]\n",
    "        tra_x = tra_x / x_std[count2]\n",
    "        count2 += 1\n",
    "        tra_x = np.array(np.float_(tra_x))\n",
    "        cstdx_test = np.concatenate([cstdx_test,tra_x])\n",
    "\n",
    "for item in x_fea2:\n",
    "    with open('df1_test1.csv', 'r') as db14:\n",
    "        reader = csv.DictReader(db14)\n",
    "        train_x = [row[item] for row in reader]\n",
    "        tra_x = np.array(np.float_(train_x))\n",
    "        cstdx_test = np.concatenate([cstdx_test,tra_x])\n",
    "x_r = cstdx_test.reshape((len(x_fea), len(y_test)))\n",
    "cstdx_test = x_r.T\n",
    "# print(cbstdx_test)\n",
    "# print(cstdx_test)\n",
    "xcb_test20 = cbstdx_test[:20]\n",
    "xc_test20 = cstdx_test[:20]\n",
    "# print(xcb_test20)"
   ]
  },
  {
   "cell_type": "code",
   "execution_count": 7,
   "metadata": {},
   "outputs": [
    {
     "name": "stdout",
     "output_type": "stream",
     "text": [
      "Root mean squared error:  928.8095109332162\n",
      "Prediction: \n",
      " [810.34, 810.34, 810.34, 810.34, 810.34, 810.34, 810.34, 810.34, 810.34, 810.34, 810.34, 810.34, 810.34, 810.34, 810.34, 810.34, 810.34, 810.34, 810.34, 810.34]\n",
      "True outcome value: \n",
      " [1183.  189. 2327.   76.  354.  713.  204.  288.  555.  586.  446.  884.\n",
      "  524.  672.   23.  570. 1361. 5934. 2319. 1633.]\n"
     ]
    }
   ],
   "source": [
    "\n",
    "# print(y_mean)\n",
    "y_pred = [y_mean]*len(y_test)\n",
    "# a = 0\n",
    "# for i in range(0, len(y_test20)):\n",
    "#     a+=((y_test20[i] - y_pred[i])**2)\n",
    "# a = a / 20\n",
    "# print(a)\n",
    "print('Root mean squared error: ', rmse(y_test, y_pred))\n",
    "print('Prediction: \\n', y_pred[:20])\n",
    "print('True outcome value: \\n', y_test20)"
   ]
  },
  {
   "cell_type": "markdown",
   "metadata": {},
   "source": [
    "Q3"
   ]
  },
  {
   "cell_type": "code",
   "execution_count": 8,
   "metadata": {},
   "outputs": [
    {
     "name": "stdout",
     "output_type": "stream",
     "text": [
      "Coefficients: \n",
      " [-6.84041869e-02  1.47059738e+02  1.79110681e-02 -2.16009708e-04\n",
      "  4.82031391e-03  6.82142207e+00 -6.16764110e-01  7.54278783e+00\n",
      " -6.21049994e+02  1.36848882e+03  4.97452472e+01 -1.38262367e+02\n",
      " -1.26645530e+02 -3.29149472e+03 -2.51197518e+03 -2.25561939e+03\n",
      " -2.01896194e+03 -1.46269926e+03 -8.19825357e+02 -6.27382449e+02\n",
      " -4.92601748e+02 -2.48659622e+02 -2.36794218e+02 -4.82011162e+02\n",
      "  1.52303860e+02 -1.73784341e+02  3.07368828e+01 -1.95575170e+02\n",
      " -7.06704408e+01 -3.15301940e+01  4.16815100e+02  1.07380770e+02\n",
      "  9.14301654e+01  2.83858616e+02  1.43729454e+02  2.91776822e+02\n",
      "  2.08722883e+02  3.14488457e+02  2.09001499e+02  2.35519102e+02\n",
      "  1.60020944e+02  1.54781652e+02  2.20833236e+02]\n",
      "Root mean squared error:  692.2891271362014\n",
      "Prediction: \n",
      " [ 781.57991507  315.92043112 2279.0848524  -136.34286373  302.35624062\n",
      "  462.42402368  321.67770824  504.52244768  505.89547104  488.36700578\n",
      "  392.61423519  388.9184671   804.87527509  634.32364432  176.31765618\n",
      "  645.7291381  1983.53858871 3144.39710045 4060.61071218 4288.223081  ]\n",
      "True outcome value: \n",
      " [1183.  189. 2327.   76.  354.  713.  204.  288.  555.  586.  446.  884.\n",
      "  524.  672.   23.  570. 1361. 5934. 2319. 1633.]\n"
     ]
    }
   ],
   "source": [
    "reg = linear_model.LinearRegression()\n",
    "reg.fit(x, y)\n",
    "y_pred = reg.predict(x_test)\n",
    "\n",
    "print('Coefficients: \\n', reg.coef_)\n",
    "print('Root mean squared error: ', rmse(y_test, y_pred))\n",
    "print('Prediction: \\n', y_pred[:20])\n",
    "print('True outcome value: \\n', y_test20)\n",
    "# print(len(x_test20))\n",
    "# print(len(y_test20))\n",
    "# print(len(y_pred))"
   ]
  },
  {
   "cell_type": "markdown",
   "metadata": {},
   "source": [
    "Q4"
   ]
  },
  {
   "cell_type": "code",
   "execution_count": 9,
   "metadata": {},
   "outputs": [
    {
     "name": "stdout",
     "output_type": "stream",
     "text": [
      "Coefficients: \n",
      " [-6.84041869e-02  1.47059738e+02  1.79110681e-02 -2.16009708e-04\n",
      "  4.82031391e-03  6.82142207e+00 -6.16764110e-01  7.54278783e+00\n",
      " -6.21049994e+02  1.36848882e+03  4.97452472e+01 -1.38262367e+02\n",
      " -1.26645530e+02 -3.29149472e+03 -2.51197518e+03 -2.25561939e+03\n",
      " -2.01896194e+03 -1.46269926e+03 -8.19825357e+02 -6.27382449e+02\n",
      " -4.92601748e+02 -2.48659622e+02 -2.36794218e+02 -4.82011162e+02\n",
      "  1.52303860e+02 -1.73784341e+02  3.07368828e+01 -1.95575170e+02\n",
      " -7.06704408e+01 -3.15301940e+01  4.16815100e+02  1.07380770e+02\n",
      "  9.14301654e+01  2.83858616e+02  1.43729454e+02  2.91776822e+02\n",
      "  2.08722883e+02  3.14488457e+02  2.09001499e+02  2.35519102e+02\n",
      "  1.60020944e+02  1.54781652e+02  2.20833236e+02]\n",
      "Root mean squared error:  692.2891271361826\n",
      "Prediction: \n",
      " [ 781.57991507  315.92043112 2279.0848524  -136.34286373  302.35624062\n",
      "  462.42402368  321.67770824  504.52244768  505.89547104  488.36700578\n",
      "  392.61423519  388.9184671   804.87527509  634.32364432  176.31765618\n",
      "  645.7291381  1983.53858871 3144.39710045 4060.61071217 4288.223081  ]\n",
      "True outcome value: \n",
      " [1183.  189. 2327.   76.  354.  713.  204.  288.  555.  586.  446.  884.\n",
      "  524.  672.   23.  570. 1361. 5934. 2319. 1633.]\n"
     ]
    }
   ],
   "source": [
    "reg = linear_model.LinearRegression()\n",
    "reg.fit(x, dy)\n",
    "y_pred = reg.predict(x_test)\n",
    "y_pred += np.mean(y)\n",
    "print('Coefficients: \\n', reg.coef_)\n",
    "print('Root mean squared error: ', rmse(y_test, y_pred))\n",
    "print('Prediction: \\n', y_pred[:20])\n",
    "print('True outcome value: \\n', y_test20)"
   ]
  },
  {
   "cell_type": "markdown",
   "metadata": {},
   "source": [
    "Q5"
   ]
  },
  {
   "cell_type": "code",
   "execution_count": 10,
   "metadata": {},
   "outputs": [
    {
     "name": "stdout",
     "output_type": "stream",
     "text": [
      "Coefficients: \n",
      " [-1112.23556456    64.50543678   365.90575515   -14.2701213\n",
      "    36.58484983    98.12277774  -149.77761448   195.46225799\n",
      "  -117.98928375   376.50544869     6.52284258   -60.64660861\n",
      "   -57.75577731  -750.39582885  -520.74281602  -611.93419943\n",
      "  -591.9897999   -402.4250919   -253.93916747  -188.21473457\n",
      "  -121.43906982   -60.19091084   -76.94901295  -142.98254033\n",
      "    54.00750506   -60.30091276    10.33691924   -64.12174356\n",
      "   -23.95965064   -11.77405798   113.07910209    43.73707223\n",
      "    23.32813391    42.09705574    24.51840812    51.7389913\n",
      "    30.95420869    76.12553473    74.62846243    68.23706214\n",
      "    36.4816169     46.94600466    34.47757789]\n",
      "Root mean squared error:  692.2891271372005\n",
      "Prediction: \n",
      " [ 781.57991507  315.92043112 2279.0848524  -136.34286373  302.35624062\n",
      "  462.42402368  321.67770824  504.52244767  505.89547104  488.36700578\n",
      "  392.61423519  388.9184671   804.87527509  634.32364432  176.31765618\n",
      "  645.72913809 1983.53858871 3144.39710045 4060.61071219 4288.223081  ]\n",
      "True outcome value: \n",
      " [1183.  189. 2327.   76.  354.  713.  204.  288.  555.  586.  446.  884.\n",
      "  524.  672.   23.  570. 1361. 5934. 2319. 1633.]\n"
     ]
    }
   ],
   "source": [
    "reg = linear_model.LinearRegression()\n",
    "reg.fit(cbstdx, dy)\n",
    "# print(xcb_test20)\n",
    "y_pred = reg.predict(cbstdx_test)\n",
    "y_pred += np.mean(y)\n",
    "print('Coefficients: \\n', reg.coef_)\n",
    "print('Root mean squared error: ', rmse(y_test, y_pred))\n",
    "print('Prediction: \\n', y_pred[:20])\n",
    "print('True outcome value: \\n', y_test20)"
   ]
  },
  {
   "cell_type": "markdown",
   "metadata": {},
   "source": [
    "Q6"
   ]
  },
  {
   "cell_type": "code",
   "execution_count": 11,
   "metadata": {},
   "outputs": [
    {
     "name": "stdout",
     "output_type": "stream",
     "text": [
      "alpha: 0.01 RMSE: 691.7564197164963\n",
      "alpha: 0.1 RMSE: 690.4794727071568\n",
      "alpha: 1 RMSE: 684.0592940464089\n",
      "alpha: 5 RMSE: 666.3743642523864\n",
      "alpha: 10 RMSE: 660.5612900111673\n",
      "alpha: 20 RMSE: 664.8697142964962\n",
      "alpha: 50 RMSE: 690.4193469387994\n",
      "alpha: 100 RMSE: 717.1282790306161\n",
      "alpha: 500 RMSE: 763.7089594553058\n",
      "alpha: 1000 RMSE: 773.6019481998379\n",
      "While alpha = 10, we have the best RMSE: 660.5612900111673\n",
      "Prediction: \n",
      " [1068.33362385  229.7553192  2008.55889192 -102.8748995   541.45769947\n",
      "  606.45925756  414.98279829  602.81051442  500.18438508  492.30663558\n",
      "  508.37649961  409.13002153  730.46768043  561.0603282   294.45089723\n",
      "  602.48286746 1632.18271503 2698.88281782 3841.63152846 3892.40090903]\n",
      "True outcome value: \n",
      " [1183.  189. 2327.   76.  354.  713.  204.  288.  555.  586.  446.  884.\n",
      "  524.  672.   23.  570. 1361. 5934. 2319. 1633.]\n"
     ]
    },
    {
     "data": {
      "image/png": "[encoded data removed]",
      "text/plain": [
       "<Figure size 432x288 with 1 Axes>"
      ]
     },
     "metadata": {
      "needs_background": "light"
     },
     "output_type": "display_data"
    }
   ],
   "source": [
    "rlist = []\n",
    "al = [0.01, 0.1, 1, 5, 10, 20, 50, 100, 500, 1000]\n",
    "for i in range(0, len(al)):\n",
    "    reg = linear_model.Ridge(alpha=al[i])\n",
    "    reg.fit(x, y)\n",
    "    y_pred = reg.predict(x_test)\n",
    "    print('alpha:', al[i] ,'RMSE:', rmse(y_test, y_pred))\n",
    "    rlist.append(rmse(y_test, y_pred))\n",
    "plt.plot(al, rlist, color='blue', linewidth=1)\n",
    "print('While alpha = 10, we have the best RMSE: 660.5612900111673')\n",
    "reg = linear_model.Ridge(alpha=10)\n",
    "reg.fit(x, y)\n",
    "y_pred = reg.predict(x_test)\n",
    "print('Prediction: \\n', y_pred[:20])\n",
    "print('True outcome value: \\n', y_test20)"
   ]
  },
  {
   "cell_type": "markdown",
   "metadata": {},
   "source": [
    "Q7"
   ]
  },
  {
   "cell_type": "code",
   "execution_count": 16,
   "metadata": {},
   "outputs": [
    {
     "name": "stdout",
     "output_type": "stream",
     "text": [
      "alpha: 0.01 RMSE: 691.7304747036972\n",
      "alpha: 0.1 RMSE: 690.3052303627677\n",
      "alpha: 1 RMSE: 681.8131356980052\n",
      "alpha: 5 RMSE: 657.2468972576442\n",
      "alpha: 10 RMSE: 646.3608224506862\n",
      "alpha: 20 RMSE: 645.5168123938738\n",
      "alpha: 50 RMSE: 666.5003100788468\n",
      "alpha: 100 RMSE: 692.0599326959293\n",
      "alpha: 500 RMSE: 752.843210942966\n",
      "alpha: 1000 RMSE: 785.4978029227881\n",
      "While alpha = 20, we have the best RMSE: 645.5168123938738\n",
      "Prediction: \n",
      " [1142.26954234  254.15701492 1834.02488944   15.7181687   599.76366292\n",
      "  635.94038984  427.85644416  603.66205989  514.52378787  580.00106007\n",
      "  544.34176021  477.18442084  801.54554542  557.45287238  396.27886548\n",
      "  615.15152412 1474.67417376 2504.86437273 3524.85964481 3438.40343713]\n",
      "True outcome value: \n",
      " [1183.  189. 2327.   76.  354.  713.  204.  288.  555.  586.  446.  884.\n",
      "  524.  672.   23.  570. 1361. 5934. 2319. 1633.]\n"
     ]
    },
    {
     "data": {
      "image/png": "[encoded data removed]",
      "text/plain": [
       "<Figure size 432x288 with 1 Axes>"
      ]
     },
     "metadata": {
      "needs_background": "light"
     },
     "output_type": "display_data"
    }
   ],
   "source": [
    "rlist = []\n",
    "al = [0.01, 0.1, 1, 5, 10, 20, 50, 100, 500, 1000]\n",
    "# print(cstdx[0])\n",
    "for i in range(0, len(al)):\n",
    "    reg = linear_model.Ridge(alpha=al[i])\n",
    "    reg.fit(cstdx, dy)\n",
    "    y_pred = reg.predict(cstdx_test)\n",
    "    y_pred += np.mean(y)\n",
    "    print('alpha:', al[i] ,'RMSE:', rmse(y_test, y_pred))\n",
    "    rlist.append(rmse(y_test, y_pred))\n",
    "plt.plot(al, rlist, color='blue', linewidth=1)\n",
    "print('While alpha = 20, we have the best RMSE: 645.5168123938738')\n",
    "reg = linear_model.Ridge(alpha=20)\n",
    "reg.fit(cstdx, dy)\n",
    "y_pred = reg.predict(cstdx_test)\n",
    "y_pred += np.mean(y)\n",
    "print('Prediction: \\n', y_pred[:20])\n",
    "print('True outcome value: \\n', y_test20)"
   ]
  },
  {
   "cell_type": "markdown",
   "metadata": {},
   "source": [
    "Q8"
   ]
  },
  {
   "cell_type": "code",
   "execution_count": 17,
   "metadata": {},
   "outputs": [
    {
     "name": "stdout",
     "output_type": "stream",
     "text": [
      "alpha: 0.01 RMSE: 691.7564197164965\n",
      "alpha: 0.1 RMSE: 690.4794727071567\n",
      "alpha: 1 RMSE: 684.0592940464086\n",
      "alpha: 5 RMSE: 666.374364252386\n",
      "alpha: 10 RMSE: 660.5612900111672\n",
      "alpha: 20 RMSE: 664.8697142964962\n",
      "alpha: 50 RMSE: 690.4193469387993\n",
      "alpha: 100 RMSE: 717.128279030616\n",
      "alpha: 500 RMSE: 763.7089594553057\n",
      "alpha: 1000 RMSE: 773.6019481998379\n",
      "While alpha = 10, we have the best RMSE: 660.5612900111673\n",
      "Prediction: \n",
      " [1068.33362385  229.7553192  2008.55889192 -102.8748995   541.45769947\n",
      "  606.45925756  414.98279829  602.81051442  500.18438508  492.30663558\n",
      "  508.37649961  409.13002153  730.46768043  561.0603282   294.45089723\n",
      "  602.48286746 1632.18271503 2698.88281782 3841.63152846 3892.40090903]\n",
      "True outcome value: \n",
      " [1183.  189. 2327.   76.  354.  713.  204.  288.  555.  586.  446.  884.\n",
      "  524.  672.   23.  570. 1361. 5934. 2319. 1633.]\n"
     ]
    },
    {
     "data": {
      "image/png": "[encoded data removed]",
      "text/plain": [
       "<Figure size 432x288 with 1 Axes>"
      ]
     },
     "metadata": {
      "needs_background": "light"
     },
     "output_type": "display_data"
    }
   ],
   "source": [
    "rlist = []\n",
    "al = [0.01, 0.1, 1, 5, 10, 20, 50, 100, 500, 1000]\n",
    "for i in range(0, len(al)):\n",
    "    reg = linear_model.Ridge(alpha=al[i])\n",
    "    reg.fit(x, dy)\n",
    "    y_pred = reg.predict(x_test)\n",
    "    y_pred += np.mean(y)\n",
    "    print('alpha:', al[i] ,'RMSE:', rmse(y_test, y_pred))\n",
    "    rlist.append(rmse(y_test, y_pred))\n",
    "plt.plot(al, rlist, color='blue', linewidth=1)\n",
    "print('While alpha = 10, we have the best RMSE: 660.5612900111673')\n",
    "reg = linear_model.Ridge(alpha=10)\n",
    "reg.fit(x, y)\n",
    "y_pred = reg.predict(x_test)\n",
    "print('Prediction: \\n', y_pred[:20])\n",
    "print('True outcome value: \\n', y_test20)"
   ]
  },
  {
   "cell_type": "markdown",
   "metadata": {},
   "source": [
    "Q9"
   ]
  },
  {
   "cell_type": "code",
   "execution_count": 18,
   "metadata": {},
   "outputs": [
    {
     "name": "stdout",
     "output_type": "stream",
     "text": [
      "alpha: 0.01 RMSE: 692.2087640655772\n",
      "alpha: 0.1 RMSE: 691.5858824497669\n",
      "alpha: 1 RMSE: 688.6097668298786\n",
      "alpha: 5 RMSE: 678.5305952097792\n",
      "alpha: 10 RMSE: 666.4517811295049\n",
      "alpha: 20 RMSE: 646.6515060786201\n",
      "alpha: 50 RMSE: 611.0884912149864\n",
      "alpha: 100 RMSE: 588.793465752767\n",
      "alpha: 500 RMSE: 636.3128466062185\n",
      "alpha: 1000 RMSE: 701.4633991861974\n",
      "While alpha = 100, we have the best RMSE: 588.793465752767\n",
      "Prediction: \n",
      " [ 816.33744416 1122.75249539 2434.75840681  682.10092152 1503.08797383\n",
      "  724.71830555  949.52603131 1643.08266105  864.18279463 1021.90627855\n",
      " 1404.04409904 1206.19061709 1098.66572121  929.26454265  783.90556398\n",
      " 1328.00719196 2445.21331553 2681.65245239 1324.07212627 1491.20689139]\n",
      "True outcome value: \n",
      " [1183.  189. 2327.   76.  354.  713.  204.  288.  555.  586.  446.  884.\n",
      "  524.  672.   23.  570. 1361. 5934. 2319. 1633.]\n"
     ]
    },
    {
     "data": {
      "image/png": "[encoded data removed]",
      "text/plain": [
       "<Figure size 432x288 with 1 Axes>"
      ]
     },
     "metadata": {
      "needs_background": "light"
     },
     "output_type": "display_data"
    }
   ],
   "source": [
    "rlist = []\n",
    "al = [0.01, 0.1, 1, 5, 10, 20, 50, 100, 500, 1000]\n",
    "for i in range(0, len(al)):\n",
    "    reg = linear_model.Ridge(alpha=al[i])\n",
    "    reg.fit(cbstdx, dy)\n",
    "    y_pred = reg.predict(cbstdx_test)\n",
    "    y_pred += np.mean(y)\n",
    "    print('alpha:', al[i] ,'RMSE:', rmse(y_test, y_pred))\n",
    "    rlist.append(rmse(y_test, y_pred))\n",
    "plt.plot(al, rlist, color='blue', linewidth=1)\n",
    "print('While alpha = 100, we have the best RMSE: 588.793465752767')\n",
    "reg = linear_model.Ridge(alpha=100)\n",
    "reg.fit(x, y)\n",
    "y_pred = reg.predict(cbstdx_test)\n",
    "print('Prediction: \\n', y_pred[:20])\n",
    "print('True outcome value: \\n', y_test20)"
   ]
  },
  {
   "cell_type": "markdown",
   "metadata": {},
   "source": [
    "Q10"
   ]
  },
  {
   "cell_type": "code",
   "execution_count": 19,
   "metadata": {},
   "outputs": [
    {
     "name": "stdout",
     "output_type": "stream",
     "text": [
      "alpha: 0.01 RMSE: 692.0179472084134\n",
      "alpha: 0.1 RMSE: 690.2394507507341\n",
      "alpha: 1 RMSE: 679.4855631220257\n",
      "alpha: 5 RMSE: 654.3119134751014\n",
      "alpha: 10 RMSE: 643.3838482161635\n",
      "alpha: 20 RMSE: 650.1282310013416\n",
      "alpha: 50 RMSE: 687.570212319791\n",
      "alpha: 100 RMSE: 800.1430462841631\n",
      "alpha: 500 RMSE: 928.8095109332162\n",
      "alpha: 1000 RMSE: 928.8095109332162\n",
      "While alpha = 10, we have the best RMSE: 643.3838482161635\n",
      "Prediction: \n",
      " [1507.25146707 1569.99640404 2827.35368137 1257.44645097 1574.7017289\n",
      " 1441.01863549 1460.24394622 1726.81564049 1579.48785426 1395.75198094\n",
      " 1555.33142348 1514.55966705 1532.57676339 1519.58491398 1267.62271322\n",
      " 1655.05832572 2737.03102841 2900.97512413 1619.5844267  1723.45888789]\n",
      "True outcome value: \n",
      " [1183.  189. 2327.   76.  354.  713.  204.  288.  555.  586.  446.  884.\n",
      "  524.  672.   23.  570. 1361. 5934. 2319. 1633.]\n"
     ]
    },
    {
     "name": "stderr",
     "output_type": "stream",
     "text": [
      "C:\\Anaconda3\\lib\\site-packages\\sklearn\\linear_model\\coordinate_descent.py:492: ConvergenceWarning: Objective did not converge. You might want to increase the number of iterations. Fitting data with very small alpha may cause precision problems.\n",
      "  ConvergenceWarning)\n",
      "C:\\Anaconda3\\lib\\site-packages\\sklearn\\linear_model\\coordinate_descent.py:492: ConvergenceWarning: Objective did not converge. You might want to increase the number of iterations. Fitting data with very small alpha may cause precision problems.\n",
      "  ConvergenceWarning)\n"
     ]
    },
    {
     "data": {
      "image/png": "[encoded data removed]",
      "text/plain": [
       "<Figure size 432x288 with 1 Axes>"
      ]
     },
     "metadata": {
      "needs_background": "light"
     },
     "output_type": "display_data"
    }
   ],
   "source": [
    "rlist = []\n",
    "al = [0.01, 0.1, 1, 5, 10, 20, 50, 100, 500, 1000]\n",
    "for i in range(0, len(al)):\n",
    "    reg = linear_model.Lasso(alpha=al[i])\n",
    "    reg.fit(cstdx, dy)\n",
    "    y_pred = reg.predict(cstdx_test)\n",
    "    y_pred += np.mean(y)\n",
    "    print('alpha:', al[i] ,'RMSE:', rmse(y_test, y_pred))\n",
    "    rlist.append(rmse(y_test, y_pred))\n",
    "plt.plot(al, rlist, color='blue', linewidth=1)\n",
    "print('While alpha = 10, we have the best RMSE: 643.3838482161635')\n",
    "reg = linear_model.Lasso(alpha=10)\n",
    "reg.fit(x, y)\n",
    "y_pred = reg.predict(cstdx_test)\n",
    "print('Prediction: \\n', y_pred[:20])\n",
    "print('True outcome value: \\n', y_test20)"
   ]
  },
  {
   "cell_type": "markdown",
   "metadata": {},
   "source": [
    "Q11"
   ]
  },
  {
   "cell_type": "markdown",
   "metadata": {},
   "source": [
    "Case   | Method| x_continue | x_binary | y     | best RMSE | alpha\n",
    "-------|:-----:|-----------:| --------:|------:|----------:|-----:\n",
    "1      | ymean |  not used  | not used |  keep | 928.81    | NA\n",
    "2A     | OLS   |  keep      | keep     |  keep | 692.29    | NA\n",
    "2B     | OLS   |  keep      | keep     |de-mean| 692.29    | NA\n",
    "2C     | OLS   |  std.      | std.     |de-mean| 692.29    | NA\n",
    "3A     | Ridge |  keep      | keep     |  keep | 660.56    | 10\n",
    "3B     | Ridge |  std.      | keep     |de-mean| 645.52    | 20\n",
    "3C     | Ridge |  keep      | keep     |de-mean| 660.56    | 10\n",
    "3D     | Ridge |  std.      | std.     |de-mean| 588.79    |100\n",
    "4      | Lasso |  std.      | keep     |de-mean| 643.38    | 10"
   ]
  },
  {
   "cell_type": "markdown",
   "metadata": {},
   "source": [
    "ymean is the worst method, which has the biggest best RMSE.\n",
    "<br>\n",
    "For OLS, standardizing doesn't affect the result of RMSE.\n",
    "<br>\n",
    "For Ridge, standardizing could reduce the value of result of RMSE.\n",
    "<br>\n",
    "For Lasso, we don't know the difference between standardizing or not.\n",
    "<br>\n",
    "3D is the best case, which has the smallest best RMSE."
   ]
  },
  {
   "cell_type": "code",
   "execution_count": null,
   "metadata": {},
   "outputs": [],
   "source": []
  }
 ],
 "metadata": {
  "kernelspec": {
   "display_name": "Python 3",
   "language": "python",
   "name": "python3"
  },
  "language_info": {
   "codemirror_mode": {
    "name": "ipython",
    "version": 3
   },
   "file_extension": ".py",
   "mimetype": "text/x-python",
   "name": "python",
   "nbconvert_exporter": "python",
   "pygments_lexer": "ipython3",
   "version": "3.7.6"
  }
 },
 "nbformat": 4,
 "nbformat_minor": 2
}
