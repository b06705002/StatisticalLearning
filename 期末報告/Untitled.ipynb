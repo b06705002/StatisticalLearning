{
 "cells": [
  {
   "cell_type": "code",
   "execution_count": 47,
   "metadata": {},
   "outputs": [],
   "source": [
    "from sklearn.datasets import load_iris\n",
    "import math\n",
    "import csv\n",
    "import numpy as np\n",
    "import pandas as pd\n",
    "from sklearn.linear_model import LogisticRegression"
   ]
  },
  {
   "cell_type": "code",
   "execution_count": 48,
   "metadata": {},
   "outputs": [
    {
     "name": "stdout",
     "output_type": "stream",
     "text": [
      "              X1   X2         X3        X4   X5     X6     X7     X8     X9  \\\n",
      "0      LIMIT_BAL  SEX  EDUCATION  MARRIAGE  AGE  PAY_0  PAY_2  PAY_3  PAY_4   \n",
      "1          20000    2          2         1   24      2      2     -1     -1   \n",
      "2         120000    2          2         2   26     -1      2      0      0   \n",
      "3          90000    2          2         2   34      0      0      0      0   \n",
      "4          50000    2          2         1   37      0      0      0      0   \n",
      "...          ...  ...        ...       ...  ...    ...    ...    ...    ...   \n",
      "29996     220000    1          3         1   39      0      0      0      0   \n",
      "29997     150000    1          3         2   43     -1     -1     -1     -1   \n",
      "29998      30000    1          2         2   37      4      3      2     -1   \n",
      "29999      80000    1          3         1   41      1     -1      0      0   \n",
      "30000      50000    1          2         1   46      0      0      0      0   \n",
      "\n",
      "         X10  ...        X15        X16        X17       X18       X19  \\\n",
      "0      PAY_5  ...  BILL_AMT4  BILL_AMT5  BILL_AMT6  PAY_AMT1  PAY_AMT2   \n",
      "1         -2  ...          0          0          0         0       689   \n",
      "2          0  ...       3272       3455       3261         0      1000   \n",
      "3          0  ...      14331      14948      15549      1518      1500   \n",
      "4          0  ...      28314      28959      29547      2000      2019   \n",
      "...      ...  ...        ...        ...        ...       ...       ...   \n",
      "29996      0  ...      88004      31237      15980      8500     20000   \n",
      "29997      0  ...       8979       5190          0      1837      3526   \n",
      "29998      0  ...      20878      20582      19357         0         0   \n",
      "29999      0  ...      52774      11855      48944     85900      3409   \n",
      "30000      0  ...      36535      32428      15313      2078      1800   \n",
      "\n",
      "            X20       X21       X22       X23                           Y  \n",
      "0      PAY_AMT3  PAY_AMT4  PAY_AMT5  PAY_AMT6  default payment next month  \n",
      "1             0         0         0         0                           1  \n",
      "2          1000      1000         0      2000                           1  \n",
      "3          1000      1000      1000      5000                           0  \n",
      "4          1200      1100      1069      1000                           0  \n",
      "...         ...       ...       ...       ...                         ...  \n",
      "29996      5003      3047      5000      1000                           0  \n",
      "29997      8998       129         0         0                           0  \n",
      "29998     22000      4200      2000      3100                           1  \n",
      "29999      1178      1926     52964      1804                           1  \n",
      "30000      1430      1000      1000      1000                           1  \n",
      "\n",
      "[30001 rows x 24 columns]\n"
     ]
    }
   ],
   "source": [
    "df = pd.read_csv(\"default of credit card clients.csv\")\n",
    "df = df.drop(columns=['Unnamed: 0'])\n",
    "print(df)"
   ]
  },
  {
   "cell_type": "code",
   "execution_count": 49,
   "metadata": {},
   "outputs": [
    {
     "name": "stdout",
     "output_type": "stream",
     "text": [
      "1        1.0\n",
      "2        1.0\n",
      "3        0.0\n",
      "4        0.0\n",
      "5        0.0\n",
      "        ... \n",
      "23996    0.0\n",
      "23997    0.0\n",
      "23998    0.0\n",
      "23999    0.0\n",
      "24000    1.0\n",
      "Name: Y, Length: 24000, dtype: float64\n",
      "             X1   X2   X3   X4    X5   X6   X7   X8   X9  X10  ...      X15  \\\n",
      "1       20000.0  2.0  2.0  1.0  24.0  2.0  2.0 -1.0 -1.0 -2.0  ...      0.0   \n",
      "2      120000.0  2.0  2.0  2.0  26.0 -1.0  2.0  0.0  0.0  0.0  ...   3272.0   \n",
      "3       90000.0  2.0  2.0  2.0  34.0  0.0  0.0  0.0  0.0  0.0  ...  14331.0   \n",
      "4       50000.0  2.0  2.0  1.0  37.0  0.0  0.0  0.0  0.0  0.0  ...  28314.0   \n",
      "5       50000.0  1.0  2.0  1.0  57.0 -1.0  0.0 -1.0  0.0  0.0  ...  20940.0   \n",
      "...         ...  ...  ...  ...   ...  ...  ...  ...  ...  ...  ...      ...   \n",
      "23996   80000.0  1.0  2.0  1.0  25.0  1.0  2.0  2.0  0.0  0.0  ...  80215.0   \n",
      "23997   20000.0  1.0  2.0  1.0  25.0  0.0  0.0  0.0  0.0  0.0  ...  17322.0   \n",
      "23998   10000.0  1.0  2.0  2.0  26.0  0.0  0.0  0.0  0.0  0.0  ...  17506.0   \n",
      "23999   20000.0  1.0  5.0  2.0  26.0  0.0  0.0  0.0  0.0  0.0  ...  39950.0   \n",
      "24000  100000.0  1.0  1.0  2.0  26.0  0.0 -1.0  0.0  0.0 -1.0  ...   1944.0   \n",
      "\n",
      "           X16      X17     X18      X19      X20     X21     X22     X23    Y  \n",
      "1          0.0      0.0     0.0    689.0      0.0     0.0     0.0     0.0  1.0  \n",
      "2       3455.0   3261.0     0.0   1000.0   1000.0  1000.0     0.0  2000.0  1.0  \n",
      "3      14948.0  15549.0  1518.0   1500.0   1000.0  1000.0  1000.0  5000.0  0.0  \n",
      "4      28959.0  29547.0  2000.0   2019.0   1200.0  1100.0  1069.0  1000.0  0.0  \n",
      "5      19146.0  19131.0  2000.0  36681.0  10000.0  9000.0   689.0   679.0  0.0  \n",
      "...        ...      ...     ...      ...      ...     ...     ...     ...  ...  \n",
      "23996  63296.0  49854.0  3800.0      6.0   3636.0  2646.0  2000.0  1830.0  0.0  \n",
      "23997  17119.0  17350.0  1552.0   2659.0   1419.0   606.0   500.0  1000.0  0.0  \n",
      "23998  16608.0   9176.0  1300.0   2200.0   1300.0   320.0  1820.0  1000.0  0.0  \n",
      "23999      0.0      0.0  3055.0   1467.0   1096.0  1000.0     0.0     0.0  0.0  \n",
      "24000    389.0   1221.0  1100.0   1200.0   1000.0   500.0  1000.0  1000.0  1.0  \n",
      "\n",
      "[24000 rows x 24 columns]\n"
     ]
    }
   ],
   "source": [
    "df_train_x = df.iloc[1:24001].astype(float)\n",
    "df_train_y = df_train_x['Y']\n",
    "df_train_x.drop(columns=['Y'])\n",
    "print(df_train_y)\n",
    "print(df_train_x)"
   ]
  },
  {
   "cell_type": "code",
   "execution_count": 50,
   "metadata": {},
   "outputs": [
    {
     "name": "stdout",
     "output_type": "stream",
     "text": [
      "24001    0.0\n",
      "24002    1.0\n",
      "24003    0.0\n",
      "24004    0.0\n",
      "24005    0.0\n",
      "        ... \n",
      "29996    0.0\n",
      "29997    0.0\n",
      "29998    1.0\n",
      "29999    1.0\n",
      "30000    1.0\n",
      "Name: Y, Length: 6000, dtype: float64\n",
      "             X1   X2   X3   X4    X5   X6   X7   X8   X9  X10  ...      X15  \\\n",
      "24001   50000.0  1.0  2.0  2.0  23.0  2.0  2.0  0.0  0.0  0.0  ...  44116.0   \n",
      "24002   60000.0  1.0  2.0  2.0  26.0  0.0  0.0  0.0  0.0  0.0  ...  55736.0   \n",
      "24003  400000.0  1.0  2.0  2.0  27.0  0.0  0.0  0.0  0.0  0.0  ...  10745.0   \n",
      "24004   20000.0  1.0  5.0  2.0  27.0  5.0  4.0  3.0  2.0  2.0  ...  19709.0   \n",
      "24005   50000.0  1.0  3.0  2.0  27.0  0.0  0.0 -2.0 -2.0 -1.0  ...      0.0   \n",
      "...         ...  ...  ...  ...   ...  ...  ...  ...  ...  ...  ...      ...   \n",
      "29996  220000.0  1.0  3.0  1.0  39.0  0.0  0.0  0.0  0.0  0.0  ...  88004.0   \n",
      "29997  150000.0  1.0  3.0  2.0  43.0 -1.0 -1.0 -1.0 -1.0  0.0  ...   8979.0   \n",
      "29998   30000.0  1.0  2.0  2.0  37.0  4.0  3.0  2.0 -1.0  0.0  ...  20878.0   \n",
      "29999   80000.0  1.0  3.0  1.0  41.0  1.0 -1.0  0.0  0.0  0.0  ...  52774.0   \n",
      "30000   50000.0  1.0  2.0  1.0  46.0  0.0  0.0  0.0  0.0  0.0  ...  36535.0   \n",
      "\n",
      "           X16      X17      X18      X19      X20     X21      X22     X23  \\\n",
      "24001  21247.0  20066.0      8.0   2401.0   2254.0  2004.0    704.0   707.0   \n",
      "24002  26958.0  28847.0   2282.0   2324.0   2049.0  2000.0   3000.0  1120.0   \n",
      "24003  20737.0   9545.0   2501.0  10009.0   1437.0  1105.0    510.0   959.0   \n",
      "24004  20113.0  19840.0      0.0      0.0      0.0   900.0      0.0     0.0   \n",
      "24005     70.0    120.0      0.0    100.0      0.0    70.0    200.0   100.0   \n",
      "...        ...      ...      ...      ...      ...     ...      ...     ...   \n",
      "29996  31237.0  15980.0   8500.0  20000.0   5003.0  3047.0   5000.0  1000.0   \n",
      "29997   5190.0      0.0   1837.0   3526.0   8998.0   129.0      0.0     0.0   \n",
      "29998  20582.0  19357.0      0.0      0.0  22000.0  4200.0   2000.0  3100.0   \n",
      "29999  11855.0  48944.0  85900.0   3409.0   1178.0  1926.0  52964.0  1804.0   \n",
      "30000  32428.0  15313.0   2078.0   1800.0   1430.0  1000.0   1000.0  1000.0   \n",
      "\n",
      "         Y  \n",
      "24001  0.0  \n",
      "24002  1.0  \n",
      "24003  0.0  \n",
      "24004  0.0  \n",
      "24005  0.0  \n",
      "...    ...  \n",
      "29996  0.0  \n",
      "29997  0.0  \n",
      "29998  1.0  \n",
      "29999  1.0  \n",
      "30000  1.0  \n",
      "\n",
      "[6000 rows x 24 columns]\n"
     ]
    }
   ],
   "source": [
    "df_test_x = df.iloc[24001:30001].astype(float)\n",
    "df_test_y = df_test_x['Y']\n",
    "df_test_x.drop(columns=['Y'])\n",
    "print(df_test_y)\n",
    "print(df_test_x)"
   ]
  },
  {
   "cell_type": "code",
   "execution_count": 51,
   "metadata": {},
   "outputs": [
    {
     "name": "stderr",
     "output_type": "stream",
     "text": [
      "C:\\anaconda3\\lib\\site-packages\\sklearn\\linear_model\\_logistic.py:940: ConvergenceWarning: lbfgs failed to converge (status=1):\n",
      "STOP: TOTAL NO. of ITERATIONS REACHED LIMIT.\n",
      "\n",
      "Increase the number of iterations (max_iter) or scale the data as shown in:\n",
      "    https://scikit-learn.org/stable/modules/preprocessing.html\n",
      "Please also refer to the documentation for alternative solver options:\n",
      "    https://scikit-learn.org/stable/modules/linear_model.html#logistic-regression\n",
      "  extra_warning_msg=_LOGISTIC_SOLVER_CONVERGENCE_MSG)\n"
     ]
    }
   ],
   "source": [
    "clf = LogisticRegression(random_state=0).fit(df_train_x.to_numpy(), df_train_y.to_numpy())"
   ]
  },
  {
   "cell_type": "code",
   "execution_count": 52,
   "metadata": {},
   "outputs": [
    {
     "data": {
      "text/plain": [
       "array([[0.59676153, 0.40323847],\n",
       "       [0.62027774, 0.37972226],\n",
       "       [0.91867032, 0.08132968],\n",
       "       ...,\n",
       "       [0.58914901, 0.41085099],\n",
       "       [0.96843891, 0.03156109],\n",
       "       [0.59098394, 0.40901606]])"
      ]
     },
     "execution_count": 52,
     "metadata": {},
     "output_type": "execute_result"
    }
   ],
   "source": [
    "y_pred = clf.predict_proba(df_test_x.to_numpy())\n",
    "y_pred"
   ]
  },
  {
   "cell_type": "code",
   "execution_count": null,
   "metadata": {},
   "outputs": [],
   "source": []
  }
 ],
 "metadata": {
  "kernelspec": {
   "display_name": "Python 3",
   "language": "python",
   "name": "python3"
  },
  "language_info": {
   "codemirror_mode": {
    "name": "ipython",
    "version": 3
   },
   "file_extension": ".py",
   "mimetype": "text/x-python",
   "name": "python",
   "nbconvert_exporter": "python",
   "pygments_lexer": "ipython3",
   "version": "3.7.6"
  }
 },
 "nbformat": 4,
 "nbformat_minor": 4
}
